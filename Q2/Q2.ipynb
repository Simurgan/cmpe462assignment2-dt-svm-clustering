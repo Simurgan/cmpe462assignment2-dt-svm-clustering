{
 "cells": [
  {
   "cell_type": "code",
   "execution_count": 1,
   "metadata": {},
   "outputs": [],
   "source": [
    "# Import libraries\n",
    "import torch\n",
    "from torchvision import datasets, transforms\n",
    "import numpy as np\n",
    "from sklearn.metrics import accuracy_score"
   ]
  },
  {
   "cell_type": "code",
   "execution_count": 2,
   "metadata": {},
   "outputs": [],
   "source": [
    "# Load MNIST dataset\n",
    "transform = transforms.Compose([transforms.ToTensor()])\n",
    "trainset = datasets.MNIST(root='./data', train=True, download=False, transform=transform)\n",
    "testset = datasets.MNIST(root='./data', train=False, download=False, transform=transform)"
   ]
  },
  {
   "cell_type": "code",
   "execution_count": 3,
   "metadata": {},
   "outputs": [],
   "source": [
    "# Filter the dataset to only include samples with labels 2, 3, 8, and 9\n",
    "filtered_train_indices = torch.tensor([idx for idx, label in enumerate(trainset.targets) if label in [2, 3, 8, 9]])\n",
    "filtered_trainset = torch.utils.data.Subset(trainset, filtered_train_indices)\n",
    "flatten_trainset = torch.stack([image.view(-1) for image, label in filtered_trainset])\n",
    "train_targets = torch.tensor([label for _, label in filtered_trainset])  # Extract target values\n",
    "\n",
    "filtered_test_indices = torch.tensor([idx for idx, label in enumerate(testset.targets) if label in [2, 3, 8, 9]])\n",
    "filtered_testset = torch.utils.data.Subset(testset, filtered_test_indices)\n",
    "flatten_testset = torch.stack([image.view(-1) for image, label in filtered_testset])\n",
    "test_targets = torch.tensor([label for _, label in filtered_testset])  # Extract target values"
   ]
  },
  {
   "cell_type": "code",
   "execution_count": 4,
   "metadata": {},
   "outputs": [],
   "source": [
    "# Normalizing the data\n",
    "from sklearn.preprocessing import normalize\n",
    "\n",
    "trainset_normalized = normalize(flatten_trainset)\n",
    "testset_normalized = normalize(flatten_testset)"
   ]
  },
  {
   "cell_type": "code",
   "execution_count": 5,
   "metadata": {},
   "outputs": [],
   "source": [
    "# Kmeans algorithm using euclidean distance\n",
    "def kmeans_euclidean(data, max_iters=1000, k=[2, 3, 8, 9]):\n",
    "    # Initialize centroids randomly\n",
    "    centroids = {label: data[np.random.choice(range(data.shape[0]))] for label in k}\n",
    "    \n",
    "    # Create a mapping for labels\n",
    "    label_mapping = {i: label for i, label in enumerate(k)}\n",
    "    \n",
    "    while(1):\n",
    "        # Assign each data point to the nearest centroid\n",
    "        distances = np.sqrt(((data - np.array(list(centroids.values()))[:, np.newaxis])**2).sum(axis=2))\n",
    "        labels = np.argmin(distances, axis=0)\n",
    "        \n",
    "        # Map the labels\n",
    "        labels = np.vectorize(label_mapping.get)(labels)\n",
    "        \n",
    "        # Update centroids\n",
    "        new_centroids = np.array([data[labels == label].mean(axis=0) for label in k])\n",
    "    \n",
    "        # Check for convergence\n",
    "        if np.allclose(np.array(list(centroids.values())), new_centroids):\n",
    "            break\n",
    "            \n",
    "        centroids = {label: new_centroids[i] for i, label in enumerate(k)}\n",
    "    \n",
    "    return labels, centroids\n"
   ]
  },
  {
   "cell_type": "code",
   "execution_count": 6,
   "metadata": {},
   "outputs": [],
   "source": [
    "# Kmeans algorithm using cosine similarity\n",
    "from sklearn.metrics.pairwise import cosine_similarity\n",
    "\n",
    "def kmeans_cosine(data, max_iters=100, k=[2, 3, 8, 9]):\n",
    "    # Initialize centroids randomly\n",
    "    centroids = {label: data[np.random.choice(range(data.shape[0]))] for label in k}\n",
    "    \n",
    "    # Create a mapping for labels\n",
    "    label_mapping = {i: label for i, label in enumerate(k)}\n",
    "    \n",
    "    while(1):\n",
    "        # Compute cosine similarity\n",
    "        dot_product = np.dot(data, np.array(list(centroids.values())).T)\n",
    "        magnitude_a = np.linalg.norm(data)\n",
    "        magnitude_b = np.linalg.norm(np.array(list(centroids.values())))\n",
    "        similarity = dot_product / (magnitude_a * magnitude_b)\n",
    "    \n",
    "        labels = np.argmax(similarity, axis=1)\n",
    "        \n",
    "        # Map the labels\n",
    "        labels = np.vectorize(label_mapping.get)(labels)\n",
    "        \n",
    "        # Update centroids\n",
    "        new_centroids = np.array([data[labels == label].mean(axis=0) for label in k])\n",
    "        \n",
    "        # Check for convergence\n",
    "        if np.allclose(np.array(list(centroids.values())), new_centroids):\n",
    "            break\n",
    "        \n",
    "        centroids = {label: new_centroids[i] for i, label in enumerate(k)}\n",
    "    \n",
    "    return labels, centroids"
   ]
  },
  {
   "cell_type": "code",
   "execution_count": 7,
   "metadata": {},
   "outputs": [],
   "source": [
    "# Function for SSE calculation \n",
    "def calculate_sse(data, centroids, assigned_labels):\n",
    "\n",
    "    sse = 0\n",
    "    for i in range (len(data)):\n",
    "        label = assigned_labels[i]\n",
    "        centroid = centroids[label]\n",
    "\n",
    "        distance = np.sqrt(((data[i] - centroid) ** 2).sum())\n",
    "        sse += distance\n",
    "\n",
    "    return sse\n",
    " "
   ]
  },
  {
   "cell_type": "code",
   "execution_count": 9,
   "metadata": {},
   "outputs": [],
   "source": [
    "# Perform K-means clustering with Euclidean distance\n",
    "labels_euclidean, centroids_euclidean = kmeans_euclidean(trainset_normalized)"
   ]
  },
  {
   "cell_type": "code",
   "execution_count": 10,
   "metadata": {},
   "outputs": [],
   "source": [
    "# Perform k-means clustering using cosine similarity\n",
    "labels_cosine, centroids_cosine = kmeans_cosine(trainset_normalized)"
   ]
  },
  {
   "cell_type": "code",
   "execution_count": 11,
   "metadata": {},
   "outputs": [
    {
     "name": "stdout",
     "output_type": "stream",
     "text": [
      "Sum of Squared Error (SSE) using euclidean distance: 16069.1987472899\n",
      "Sum of Squared Error (SSE) using cosine similarity: 16084.827266390339\n"
     ]
    }
   ],
   "source": [
    "# Calculate SSE\n",
    "sse_euclidean = calculate_sse(trainset_normalized, centroids_euclidean, labels_euclidean)\n",
    "print(\"Sum of Squared Error (SSE) using euclidean distance:\", sse_euclidean)\n",
    "\n",
    "sse_cosine = calculate_sse(trainset_normalized, centroids_cosine, labels_cosine)\n",
    "print(\"Sum of Squared Error (SSE) using cosine similarity:\", sse_cosine)"
   ]
  },
  {
   "cell_type": "code",
   "execution_count": 15,
   "metadata": {},
   "outputs": [
    {
     "name": "stdout",
     "output_type": "stream",
     "text": [
      "Clustering accuracy using euclidean distance: 0.36983548913725983\n",
      "Clustering accuracy using cosine similarity: 0.19473397798149775\n"
     ]
    }
   ],
   "source": [
    "# Calculate clustering accuracy \n",
    "accuracy_euclidean = accuracy_score(train_targets, labels_euclidean)\n",
    "print(\"Clustering accuracy using euclidean distance:\", accuracy_euclidean)\n",
    "\n",
    "accuracy_cosine = accuracy_score(train_targets, labels_cosine)\n",
    "print(\"Clustering accuracy using cosine similarity:\", accuracy_cosine)"
   ]
  },
  {
   "cell_type": "code",
   "execution_count": 13,
   "metadata": {},
   "outputs": [
    {
     "name": "stdout",
     "output_type": "stream",
     "text": [
      "Clustering accuracy using PCA-transformed data: 0.4694210724601281\n"
     ]
    }
   ],
   "source": [
    "# PCA\n",
    "from sklearn.decomposition import PCA\n",
    "\n",
    "# Apply PCA to extract features\n",
    "pca = PCA(n_components=50)  # You can adjust the number of components as needed\n",
    "X_pca = pca.fit_transform(trainset_normalized)\n",
    "\n",
    "# Perform k-means clustering on the PCA-transformed data\n",
    "labels_pca, centroids_pca =  kmeans_euclidean(X_pca)\n",
    "\n",
    "# Calculate clustering accuracy using PCA-transformed data\n",
    "accuracy_pca = accuracy_score(train_targets, labels_pca)\n",
    "print(\"Clustering accuracy using PCA-transformed data:\", accuracy_pca)\n"
   ]
  },
  {
   "cell_type": "code",
   "execution_count": 23,
   "metadata": {},
   "outputs": [
    {
     "data": {
      "image/png": "[encoded data removed]",
      "text/plain": [
       "<Figure size 640x480 with 1 Axes>"
      ]
     },
     "metadata": {},
     "output_type": "display_data"
    }
   ],
   "source": [
    "# Plot the centroids\n",
    "import matplotlib.pyplot as plt\n",
    "\n",
    "pca = PCA(n_components=2)\n",
    "\n",
    "centroids_e = pca.fit_transform(np.array(list(centroids_euclidean.values())))\n",
    "centroids_c = pca.fit_transform(np.array(list(centroids_cosine.values())))\n",
    "\n",
    "plt.scatter(centroids_e[:, 0], centroids_e[:, 1], marker='x', color='red', label='Centroids_e')\n",
    "plt.scatter(centroids_c[:, 0], centroids_c[:, 1], marker='x', color='blue', label='Centroids_c')\n",
    "plt.xlabel('PC1')\n",
    "plt.ylabel('PC2')\n",
    "plt.title('Visualization of Centroids in 2D using PCA')\n",
    "plt.legend()\n",
    "plt.show()\n"
   ]
  }
 ],
 "metadata": {
  "kernelspec": {
   "display_name": "ML",
   "language": "python",
   "name": "python3"
  },
  "language_info": {
   "codemirror_mode": {
    "name": "ipython",
    "version": 3
   },
   "file_extension": ".py",
   "mimetype": "text/x-python",
   "name": "python",
   "nbconvert_exporter": "python",
   "pygments_lexer": "ipython3",
   "version": "3.12.2"
  }
 },
 "nbformat": 4,
 "nbformat_minor": 2
}
